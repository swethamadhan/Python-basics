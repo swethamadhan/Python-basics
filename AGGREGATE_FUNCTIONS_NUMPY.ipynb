{
  "nbformat": 4,
  "nbformat_minor": 0,
  "metadata": {
    "colab": {
      "provenance": [],
      "collapsed_sections": []
    },
    "kernelspec": {
      "name": "python3",
      "display_name": "Python 3"
    },
    "language_info": {
      "name": "python"
    }
  },
  "cells": [
    {
      "cell_type": "markdown",
      "metadata": {
        "id": "5P4A7asNPRdw"
      },
      "source": [
        "**INSTALL NUMPY**"
      ]
    },
    {
      "cell_type": "code",
      "metadata": {
        "colab": {
          "base_uri": "https://localhost:8080/"
        },
        "id": "rH9TTkLXPt0X",
        "outputId": "0524d7f4-ac8e-4d14-d5cf-d4bb38e5fba5"
      },
      "source": [
        "!pip install numpy"
      ],
      "execution_count": null,
      "outputs": [
        {
          "output_type": "stream",
          "name": "stdout",
          "text": [
            "Requirement already satisfied: numpy in /usr/local/lib/python3.7/dist-packages (1.19.5)\n"
          ]
        }
      ]
    },
    {
      "cell_type": "markdown",
      "metadata": {
        "id": "o5arBBUHQOp3"
      },
      "source": [
        "**IMPORT NUMPY**"
      ]
    },
    {
      "cell_type": "code",
      "metadata": {
        "id": "sm4aTYX6QTMI"
      },
      "source": [
        "import numpy as np"
      ],
      "execution_count": null,
      "outputs": []
    },
    {
      "cell_type": "markdown",
      "metadata": {
        "id": "IHT--296QtOA"
      },
      "source": [
        "**AGGREGATE FUNCTIONS**"
      ]
    },
    {
      "cell_type": "markdown",
      "metadata": {
        "id": "vu3xjdldca5F"
      },
      "source": [
        "*FOR SINGLE DIMENSIONAL ARRAY*"
      ]
    },
    {
      "cell_type": "code",
      "metadata": {
        "colab": {
          "base_uri": "https://localhost:8080/"
        },
        "id": "uOe48ZWQQxtA",
        "outputId": "2030d5fc-4d33-45e6-a0ea-99dbc4c092c8"
      },
      "source": [
        "#sum() calculates the total of both floating-point numbers and integers.\n",
        "num = np.array([3,5,7])\n",
        "print(num.sum())"
      ],
      "execution_count": null,
      "outputs": [
        {
          "output_type": "stream",
          "name": "stdout",
          "text": [
            "15\n"
          ]
        }
      ]
    },
    {
      "cell_type": "code",
      "metadata": {
        "colab": {
          "base_uri": "https://localhost:8080/"
        },
        "id": "mrdIlMytU9kv",
        "outputId": "5bbebb92-142a-48a8-88e7-cdeed9021b5d"
      },
      "source": [
        "# min() function is used to find the lowest value in a list.\n",
        "num = np.array([4,6,8])\n",
        "print(num.min())"
      ],
      "execution_count": null,
      "outputs": [
        {
          "output_type": "stream",
          "name": "stdout",
          "text": [
            "4\n"
          ]
        }
      ]
    },
    {
      "cell_type": "code",
      "metadata": {
        "colab": {
          "base_uri": "https://localhost:8080/"
        },
        "id": "IF71NevjVaWI",
        "outputId": "5cc7988f-e24c-4ab2-ef97-7b26c5f36258"
      },
      "source": [
        "#max() function is used to find the largest value in a list of values. \n",
        "num = np.array([3,2,1])\n",
        "print(num.max())"
      ],
      "execution_count": null,
      "outputs": [
        {
          "output_type": "stream",
          "name": "stdout",
          "text": [
            "3\n"
          ]
        }
      ]
    },
    {
      "cell_type": "code",
      "metadata": {
        "colab": {
          "base_uri": "https://localhost:8080/"
        },
        "id": "9FC-oAT_VoPe",
        "outputId": "2d032a29-d39e-4efe-83a1-0a35e72f0c59"
      },
      "source": [
        "# mean() function is used to calculate mean/average of a given list of numbers\n",
        "num = np.array([7,8,9])\n",
        "print(num.mean())"
      ],
      "execution_count": null,
      "outputs": [
        {
          "output_type": "stream",
          "name": "stdout",
          "text": [
            "8.0\n"
          ]
        }
      ]
    },
    {
      "cell_type": "code",
      "metadata": {
        "colab": {
          "base_uri": "https://localhost:8080/"
        },
        "id": "GQWeJax4V6V2",
        "outputId": "671421b2-d8b0-4e7f-f409-b50d1902b792"
      },
      "source": [
        "#prod() used to calculate the product of all the elements present in the given iterable.\n",
        "num = np.array([5,7,3])\n",
        "print(num.prod())"
      ],
      "execution_count": null,
      "outputs": [
        {
          "output_type": "stream",
          "name": "stdout",
          "text": [
            "105\n"
          ]
        }
      ]
    },
    {
      "cell_type": "code",
      "metadata": {
        "colab": {
          "base_uri": "https://localhost:8080/"
        },
        "id": "dPw0YGq8XAdX",
        "outputId": "50eedd6f-1836-4f7e-e036-dc8ef05dd3ce"
      },
      "source": [
        "# The method returns the __dict__ attribute for a module, class, instance, or any other object if the same has a __dict__ attribute.\n",
        "num = np.array([6,7,8])\n",
        "print(num.var())"
      ],
      "execution_count": null,
      "outputs": [
        {
          "output_type": "stream",
          "name": "stdout",
          "text": [
            "0.6666666666666666\n"
          ]
        }
      ]
    },
    {
      "cell_type": "code",
      "metadata": {
        "colab": {
          "base_uri": "https://localhost:8080/"
        },
        "id": "UHJM--UDZism",
        "outputId": "f5195b68-2bc0-4c1f-f9d6-0fe228365403"
      },
      "source": [
        "# median() is used to calculate the median of any data set without first sorting the list.\n",
        "num = np.array([5,7,9])\n",
        "print(np.median(num))"
      ],
      "execution_count": null,
      "outputs": [
        {
          "output_type": "stream",
          "name": "stdout",
          "text": [
            "7.0\n"
          ]
        }
      ]
    },
    {
      "cell_type": "code",
      "metadata": {
        "colab": {
          "base_uri": "https://localhost:8080/"
        },
        "id": "Jh6eloQTa14G",
        "outputId": "7e6a6c48-d229-4200-84f6-b7031bcd4107"
      },
      "source": [
        "#cumsum() is used to find the cumulative sum value over any axis.\n",
        "num = np.array([5,7,9])\n",
        "num\n",
        "np.cumsum(num)"
      ],
      "execution_count": null,
      "outputs": [
        {
          "output_type": "execute_result",
          "data": {
            "text/plain": [
              "array([ 5, 12, 21])"
            ]
          },
          "metadata": {},
          "execution_count": 98
        }
      ]
    },
    {
      "cell_type": "code",
      "metadata": {
        "colab": {
          "base_uri": "https://localhost:8080/"
        },
        "id": "iFkK2QblbYYe",
        "outputId": "576e9aa1-9f7a-4021-aec7-2a14678dc2ff"
      },
      "source": [
        "#cumprod() function is used when we want to compute the cumulative product of array elements over a given axis.\n",
        "num = np.array([5,7,9])\n",
        "num\n",
        "np.cumprod(num)"
      ],
      "execution_count": null,
      "outputs": [
        {
          "output_type": "execute_result",
          "data": {
            "text/plain": [
              "array([  5,  35, 315])"
            ]
          },
          "metadata": {},
          "execution_count": 97
        }
      ]
    },
    {
      "cell_type": "code",
      "metadata": {
        "colab": {
          "base_uri": "https://localhost:8080/"
        },
        "id": "rnMeg1B-beSN",
        "outputId": "97f43734-f393-4e4e-a72a-a30f2c8c7b5d"
      },
      "source": [
        "#percentile()function used to compute the nth percentile of the given data (array elements) along the specified axis.\n",
        "num = np.array([5,7,9])\n",
        "num\n",
        "np.percentile(num,1)"
      ],
      "execution_count": null,
      "outputs": [
        {
          "output_type": "execute_result",
          "data": {
            "text/plain": [
              "5.04"
            ]
          },
          "metadata": {},
          "execution_count": 99
        }
      ]
    },
    {
      "cell_type": "code",
      "metadata": {
        "colab": {
          "base_uri": "https://localhost:8080/"
        },
        "id": "CfdRodemfQNl",
        "outputId": "3f9421d6-8a3e-4b37-ddd9-2a4729ef5549"
      },
      "source": [
        "#Correlation coefficients are used to measure the strength of the relationship between two variables.\n",
        "num = np.array([5,7,9,11])\n",
        "num\n",
        "np.corrcoef(num)"
      ],
      "execution_count": null,
      "outputs": [
        {
          "output_type": "execute_result",
          "data": {
            "text/plain": [
              "1.0"
            ]
          },
          "metadata": {},
          "execution_count": 100
        }
      ]
    },
    {
      "cell_type": "code",
      "metadata": {
        "colab": {
          "base_uri": "https://localhost:8080/"
        },
        "id": "830d_OfZhwYh",
        "outputId": "3858c34a-ebfd-4e12-c7fb-4f3a43cd6987"
      },
      "source": [
        "# minimum array\n",
        "a=[4,5,6]\n",
        "b=[7,8,9]\n",
        "print(np.minimum(a,b))"
      ],
      "execution_count": null,
      "outputs": [
        {
          "output_type": "stream",
          "name": "stdout",
          "text": [
            "[4 5 6]\n"
          ]
        }
      ]
    },
    {
      "cell_type": "code",
      "metadata": {
        "colab": {
          "base_uri": "https://localhost:8080/"
        },
        "id": "dfiUebHlh3fK",
        "outputId": "2ae11c34-40ab-4147-d99e-95b3b70a1ce5"
      },
      "source": [
        "# maximum array\n",
        "a=[4,5,6]\n",
        "b=[7,8,9]\n",
        "print(np.maximum(a,b))"
      ],
      "execution_count": null,
      "outputs": [
        {
          "output_type": "stream",
          "name": "stdout",
          "text": [
            "[7 8 9]\n"
          ]
        }
      ]
    },
    {
      "cell_type": "markdown",
      "metadata": {
        "id": "h2w5YKUwcuq0"
      },
      "source": [
        "*FOR TWO DIMENSIONAL ARRAY*"
      ]
    },
    {
      "cell_type": "code",
      "metadata": {
        "colab": {
          "base_uri": "https://localhost:8080/"
        },
        "id": "IOoTcGYhc3cr",
        "outputId": "ec6ed750-57c8-4ddd-860e-2f4119012e80"
      },
      "source": [
        "num = np.array([[3,5,7],[3,5,7]])\n",
        "print(num.sum())"
      ],
      "execution_count": null,
      "outputs": [
        {
          "output_type": "stream",
          "name": "stdout",
          "text": [
            "30\n"
          ]
        }
      ]
    },
    {
      "cell_type": "code",
      "metadata": {
        "colab": {
          "base_uri": "https://localhost:8080/"
        },
        "id": "4AIj3sgCdHqF",
        "outputId": "84b68f6e-e66e-48e0-a353-9f4763bcd135"
      },
      "source": [
        "num = np.array([[4,6,8],[7,9,6]])\n",
        "print(num.min())"
      ],
      "execution_count": null,
      "outputs": [
        {
          "output_type": "stream",
          "name": "stdout",
          "text": [
            "4\n"
          ]
        }
      ]
    },
    {
      "cell_type": "code",
      "metadata": {
        "colab": {
          "base_uri": "https://localhost:8080/"
        },
        "id": "ISH3Wo3rdTgN",
        "outputId": "f2d244c0-f76f-44e5-8fc5-e5c1a9bd60be"
      },
      "source": [
        "num = np.array([[3,2,1],[9,5,3]])\n",
        "print(num.max())"
      ],
      "execution_count": null,
      "outputs": [
        {
          "output_type": "stream",
          "name": "stdout",
          "text": [
            "9\n"
          ]
        }
      ]
    },
    {
      "cell_type": "code",
      "metadata": {
        "colab": {
          "base_uri": "https://localhost:8080/"
        },
        "id": "CoTmvzPedc2s",
        "outputId": "9230e245-3a3e-485d-ada8-d0988e79f713"
      },
      "source": [
        "num = np.array([[7,8,9],[3,8,9]])\n",
        "print(num.mean())"
      ],
      "execution_count": null,
      "outputs": [
        {
          "output_type": "stream",
          "name": "stdout",
          "text": [
            "7.333333333333333\n"
          ]
        }
      ]
    },
    {
      "cell_type": "code",
      "metadata": {
        "colab": {
          "base_uri": "https://localhost:8080/"
        },
        "id": "QXP8d6sFdrD8",
        "outputId": "64031f75-c45d-405e-dae7-73a50d76273a"
      },
      "source": [
        "num = np.array([[5,7,3],[8,3,2]])\n",
        "print(num.prod())"
      ],
      "execution_count": null,
      "outputs": [
        {
          "output_type": "stream",
          "name": "stdout",
          "text": [
            "5040\n"
          ]
        }
      ]
    },
    {
      "cell_type": "code",
      "metadata": {
        "colab": {
          "base_uri": "https://localhost:8080/"
        },
        "id": "G8w4T66jd4sN",
        "outputId": "f4661a59-f829-481a-9d71-950e0b5cd2e2"
      },
      "source": [
        "num = np.array([[6,7,8],[3,4,5]])\n",
        "print(num.var())"
      ],
      "execution_count": null,
      "outputs": [
        {
          "output_type": "stream",
          "name": "stdout",
          "text": [
            "2.9166666666666665\n"
          ]
        }
      ]
    },
    {
      "cell_type": "code",
      "metadata": {
        "colab": {
          "base_uri": "https://localhost:8080/"
        },
        "id": "iunxz60DeBjU",
        "outputId": "b5b62974-08cd-473f-c842-2c6696ed15f9"
      },
      "source": [
        "num = np.array([[3,5,7],[4,5,6]])\n",
        "print(np.average(num))"
      ],
      "execution_count": null,
      "outputs": [
        {
          "output_type": "stream",
          "name": "stdout",
          "text": [
            "5.0\n"
          ]
        }
      ]
    },
    {
      "cell_type": "code",
      "metadata": {
        "colab": {
          "base_uri": "https://localhost:8080/"
        },
        "id": "8Kc6oGp0eKJr",
        "outputId": "f75dc898-cb0e-48f0-ef7a-a081c36a5a3d"
      },
      "source": [
        "a=[[4,5,6],[9,8,7]]\n",
        "b=[[7,8,9],[6,5,4]]\n",
        "print(np.minimum(a,b))"
      ],
      "execution_count": null,
      "outputs": [
        {
          "output_type": "stream",
          "name": "stdout",
          "text": [
            "[[4 5 6]\n",
            " [6 5 4]]\n"
          ]
        }
      ]
    },
    {
      "cell_type": "code",
      "metadata": {
        "colab": {
          "base_uri": "https://localhost:8080/"
        },
        "id": "lotdAqljeT1U",
        "outputId": "726a9a1e-64c4-4596-beec-da9b2c1a8b7d"
      },
      "source": [
        "x=[[4,5,6],[3,4,5]]\n",
        "y=[[7,8,9],[4,5,6]]\n",
        "print(np.maximum(x,y))"
      ],
      "execution_count": null,
      "outputs": [
        {
          "output_type": "stream",
          "name": "stdout",
          "text": [
            "[[7 8 9]\n",
            " [4 5 6]]\n"
          ]
        }
      ]
    },
    {
      "cell_type": "code",
      "metadata": {
        "colab": {
          "base_uri": "https://localhost:8080/"
        },
        "id": "6UOIGs47eaLk",
        "outputId": "4c42badb-8a65-443c-82fb-3599f6522ac2"
      },
      "source": [
        "num = np.array([[5,7,9],[8,3,1]])\n",
        "print(np.median(num))"
      ],
      "execution_count": null,
      "outputs": [
        {
          "output_type": "stream",
          "name": "stdout",
          "text": [
            "6.0\n"
          ]
        }
      ]
    },
    {
      "cell_type": "code",
      "metadata": {
        "colab": {
          "base_uri": "https://localhost:8080/"
        },
        "id": "29Phx1unejV8",
        "outputId": "7fbccfbc-7a92-40c2-ed29-16d654dcb132"
      },
      "source": [
        "num = np.array([[5,7,9],[0,9,8]])\n",
        "num\n",
        "np.cumsum(num)"
      ],
      "execution_count": null,
      "outputs": [
        {
          "output_type": "execute_result",
          "data": {
            "text/plain": [
              "array([ 5, 12, 21, 21, 30, 38])"
            ]
          },
          "metadata": {},
          "execution_count": 46
        }
      ]
    },
    {
      "cell_type": "code",
      "metadata": {
        "colab": {
          "base_uri": "https://localhost:8080/"
        },
        "id": "mrjUbD8Metm9",
        "outputId": "a9b25016-56b9-4281-e7da-85c7c9c35e96"
      },
      "source": [
        "num = np.array([[5,7,9],[8,5,4]])\n",
        "num\n",
        "np.cumprod(num)"
      ],
      "execution_count": null,
      "outputs": [
        {
          "output_type": "execute_result",
          "data": {
            "text/plain": [
              "array([    5,    35,   315,  2520, 12600, 50400])"
            ]
          },
          "metadata": {},
          "execution_count": 47
        }
      ]
    },
    {
      "cell_type": "code",
      "metadata": {
        "colab": {
          "base_uri": "https://localhost:8080/"
        },
        "id": "u5KytPPDe12U",
        "outputId": "1c861173-f38b-41c7-ecc7-55432b3e2f14"
      },
      "source": [
        "num = np.array([[5,7,9],[5,4,3]])\n",
        "num\n",
        "np.percentile(num,1)"
      ],
      "execution_count": null,
      "outputs": [
        {
          "output_type": "execute_result",
          "data": {
            "text/plain": [
              "3.05"
            ]
          },
          "metadata": {},
          "execution_count": 48
        }
      ]
    },
    {
      "cell_type": "code",
      "metadata": {
        "colab": {
          "base_uri": "https://localhost:8080/"
        },
        "id": "viIdXOCGfvA7",
        "outputId": "63465d5c-9de6-4866-9201-1133bc4c6efd"
      },
      "source": [
        "num = np.array([[5,7,9,11],[2,3,4,5]])\n",
        "num\n",
        "np.corrcoef(num)"
      ],
      "execution_count": null,
      "outputs": [
        {
          "output_type": "execute_result",
          "data": {
            "text/plain": [
              "array([[1., 1.],\n",
              "       [1., 1.]])"
            ]
          },
          "metadata": {},
          "execution_count": 53
        }
      ]
    },
    {
      "cell_type": "markdown",
      "metadata": {
        "id": "Snh0v4SGgCnt"
      },
      "source": [
        "*FOR MULTI DIMENSIONAL ARRAY*"
      ]
    },
    {
      "cell_type": "code",
      "metadata": {
        "colab": {
          "base_uri": "https://localhost:8080/"
        },
        "id": "d_KzSeQvgbbS",
        "outputId": "30fd10ce-8638-4ff2-9448-f0666e6ce630"
      },
      "source": [
        "num = np.array([[5,7,9,11],[2,3,4,5],[3,4,5,7],[2,5,6,8]])\n",
        "print(num.sum())"
      ],
      "execution_count": null,
      "outputs": [
        {
          "output_type": "stream",
          "name": "stdout",
          "text": [
            "86\n"
          ]
        }
      ]
    },
    {
      "cell_type": "code",
      "metadata": {
        "colab": {
          "base_uri": "https://localhost:8080/"
        },
        "id": "DtHr-4KagbHS",
        "outputId": "d3caa377-2350-41a0-84ef-226cf3de7132"
      },
      "source": [
        "num = np.array([[5,7,9,11],[2,3,4,5],[3,4,5,7],[2,5,6,8]])\n",
        "print(num.min())"
      ],
      "execution_count": null,
      "outputs": [
        {
          "output_type": "stream",
          "name": "stdout",
          "text": [
            "2\n"
          ]
        }
      ]
    },
    {
      "cell_type": "code",
      "metadata": {
        "colab": {
          "base_uri": "https://localhost:8080/"
        },
        "id": "fjVPWR0lgayq",
        "outputId": "92632611-5173-4b03-f974-19b364c32feb"
      },
      "source": [
        "num = np.array([[5,7,9,11],[2,3,4,5],[3,4,5,7],[2,5,6,8]])\n",
        "print(num.max())"
      ],
      "execution_count": null,
      "outputs": [
        {
          "output_type": "stream",
          "name": "stdout",
          "text": [
            "11\n"
          ]
        }
      ]
    },
    {
      "cell_type": "code",
      "metadata": {
        "colab": {
          "base_uri": "https://localhost:8080/"
        },
        "id": "7A54viOUgadC",
        "outputId": "5d666637-45a2-49f3-a6b4-4ff66d461751"
      },
      "source": [
        "num = np.array([[5,7,9,11],[2,3,4,5],[3,4,5,7],[2,5,6,8]])\n",
        "print(num.mean())"
      ],
      "execution_count": null,
      "outputs": [
        {
          "output_type": "stream",
          "name": "stdout",
          "text": [
            "5.375\n"
          ]
        }
      ]
    },
    {
      "cell_type": "code",
      "metadata": {
        "colab": {
          "base_uri": "https://localhost:8080/"
        },
        "id": "7gWpV031gaHb",
        "outputId": "07ce7ac6-2f23-452b-829b-b4448422de7b"
      },
      "source": [
        "num = np.array([[5,7,9,11],[2,3,4,5],[3,4,5,7],[2,5,6,8]])\n",
        "print(num.prod())"
      ],
      "execution_count": null,
      "outputs": [
        {
          "output_type": "stream",
          "name": "stdout",
          "text": [
            "83825280000\n"
          ]
        }
      ]
    },
    {
      "cell_type": "code",
      "metadata": {
        "colab": {
          "base_uri": "https://localhost:8080/"
        },
        "id": "E__BxlRPgZzi",
        "outputId": "fbc92215-77c8-4024-a018-1834bb68ebd8"
      },
      "source": [
        "num = np.array([[5,7,9,11],[2,3,4,5],[3,4,5,7],[2,5,6,8]])\n",
        "print(num.var())"
      ],
      "execution_count": null,
      "outputs": [
        {
          "output_type": "stream",
          "name": "stdout",
          "text": [
            "5.984375\n"
          ]
        }
      ]
    },
    {
      "cell_type": "code",
      "metadata": {
        "colab": {
          "base_uri": "https://localhost:8080/"
        },
        "id": "EUuikiZVgZea",
        "outputId": "b172df10-f437-40b2-ba69-4699839b521a"
      },
      "source": [
        "num = np.array([[5,7,9,11],[2,3,4,5],[3,4,5,7],[2,5,6,8]])\n",
        "print(np.average(num))"
      ],
      "execution_count": null,
      "outputs": [
        {
          "output_type": "stream",
          "name": "stdout",
          "text": [
            "5.375\n"
          ]
        }
      ]
    },
    {
      "cell_type": "code",
      "metadata": {
        "colab": {
          "base_uri": "https://localhost:8080/"
        },
        "id": "QScC9BUsgZKK",
        "outputId": "31edf440-8cea-45a7-ea26-bd92d478fca8"
      },
      "source": [
        "num = np.array([[5,7,9,11],[2,3,4,5],[3,4,5,7],[2,5,6,8]])\n",
        "print(np.median(num))"
      ],
      "execution_count": null,
      "outputs": [
        {
          "output_type": "stream",
          "name": "stdout",
          "text": [
            "5.0\n"
          ]
        }
      ]
    },
    {
      "cell_type": "code",
      "metadata": {
        "colab": {
          "base_uri": "https://localhost:8080/"
        },
        "id": "LL6kua1igY0L",
        "outputId": "a0325b2a-6a39-497b-e645-1df134b4abc8"
      },
      "source": [
        "num = np.array([[5,7,9,11],[2,3,4,5],[3,4,5,7],[2,5,6,8]])\n",
        "num\n",
        "np.cumsum(num)"
      ],
      "execution_count": null,
      "outputs": [
        {
          "output_type": "execute_result",
          "data": {
            "text/plain": [
              "array([ 5, 12, 21, 32, 34, 37, 41, 46, 49, 53, 58, 65, 67, 72, 78, 86])"
            ]
          },
          "metadata": {},
          "execution_count": 58
        }
      ]
    },
    {
      "cell_type": "code",
      "metadata": {
        "colab": {
          "base_uri": "https://localhost:8080/"
        },
        "id": "DQuyoZMdgYXk",
        "outputId": "a03ae113-3737-4263-ed71-9c554744e919"
      },
      "source": [
        "num = np.array([[5,7,9,11],[2,3,4,5],[3,4,5,7],[2,5,6,8]])\n",
        "num\n",
        "np.cumprod(num)"
      ],
      "execution_count": null,
      "outputs": [
        {
          "output_type": "execute_result",
          "data": {
            "text/plain": [
              "array([          5,          35,         315,        3465,        6930,\n",
              "             20790,       83160,      415800,     1247400,     4989600,\n",
              "          24948000,   174636000,   349272000,  1746360000, 10478160000,\n",
              "       83825280000])"
            ]
          },
          "metadata": {},
          "execution_count": 57
        }
      ]
    },
    {
      "cell_type": "code",
      "metadata": {
        "colab": {
          "base_uri": "https://localhost:8080/"
        },
        "id": "WwrTpMn8gX06",
        "outputId": "73cb1ff9-e973-4bfe-f83a-65be799989f0"
      },
      "source": [
        "num = np.array([[5,7,9,11],[2,3,4,5],[3,4,5,7],[2,5,6,8]])\n",
        "num\n",
        "np.percentile(num,1)"
      ],
      "execution_count": null,
      "outputs": [
        {
          "output_type": "execute_result",
          "data": {
            "text/plain": [
              "2.0"
            ]
          },
          "metadata": {},
          "execution_count": 55
        }
      ]
    },
    {
      "cell_type": "code",
      "metadata": {
        "colab": {
          "base_uri": "https://localhost:8080/"
        },
        "id": "MWTXYXEvgXV7",
        "outputId": "d75c646a-7334-4493-939d-6d9ffee92afe"
      },
      "source": [
        "num = np.array([[5,7,9,11],[2,3,4,5],[3,4,5,7],[2,5,6,8]])\n",
        "num\n",
        "np.corrcoef(num)"
      ],
      "execution_count": null,
      "outputs": [
        {
          "output_type": "execute_result",
          "data": {
            "text/plain": [
              "array([[1.        , 1.        , 0.98270763, 0.98115578],\n",
              "       [1.        , 1.        , 0.98270763, 0.98115578],\n",
              "       [0.98270763, 0.98270763, 1.        , 0.95638207],\n",
              "       [0.98115578, 0.98115578, 0.95638207, 1.        ]])"
            ]
          },
          "metadata": {},
          "execution_count": 54
        }
      ]
    },
    {
      "cell_type": "code",
      "metadata": {
        "colab": {
          "base_uri": "https://localhost:8080/"
        },
        "id": "ga-qfi7RhWQD",
        "outputId": "490ebdcb-1d54-4f12-9a26-2af058ca6f36"
      },
      "source": [
        "a=[[4,5,6],[3,4,5],[4,5,6],[2,1,3]]\n",
        "b=[[7,8,9],[4,5,6],[4,5,6],[2,3,4]]\n",
        "print(np.minimum(a,b))"
      ],
      "execution_count": null,
      "outputs": [
        {
          "output_type": "stream",
          "name": "stdout",
          "text": [
            "[[4 5 6]\n",
            " [3 4 5]\n",
            " [4 5 6]\n",
            " [2 1 3]]\n"
          ]
        }
      ]
    },
    {
      "cell_type": "code",
      "metadata": {
        "colab": {
          "base_uri": "https://localhost:8080/"
        },
        "id": "pQItQ1ERiGup",
        "outputId": "79b0300b-7338-4463-997a-1a7c16f9e00a"
      },
      "source": [
        "x=[[4,5,6],[3,4,5],[4,5,6],[2,1,3]]\n",
        "y=[[7,8,9],[4,5,6],[4,5,6],[2,3,4]]\n",
        "print(np.maximum(x,y))"
      ],
      "execution_count": null,
      "outputs": [
        {
          "output_type": "stream",
          "name": "stdout",
          "text": [
            "[[7 8 9]\n",
            " [4 5 6]\n",
            " [4 5 6]\n",
            " [2 3 4]]\n"
          ]
        }
      ]
    },
    {
      "cell_type": "markdown",
      "metadata": {
        "id": "T1sQNEt3ig9G"
      },
      "source": [
        " **RANDAMIZE FUNCTION** "
      ]
    },
    {
      "cell_type": "code",
      "metadata": {
        "colab": {
          "base_uri": "https://localhost:8080/"
        },
        "id": "tO-lRVE7i2Ms",
        "outputId": "64ac62e0-e8cc-4bc8-d413-23dcf22a0a40"
      },
      "source": [
        "x=np.random.rand(5)\n",
        "x"
      ],
      "execution_count": null,
      "outputs": [
        {
          "output_type": "execute_result",
          "data": {
            "text/plain": [
              "array([0.3319397 , 0.98739364, 0.48180773, 0.60891324, 0.0400023 ])"
            ]
          },
          "metadata": {},
          "execution_count": 76
        }
      ]
    },
    {
      "cell_type": "code",
      "metadata": {
        "colab": {
          "base_uri": "https://localhost:8080/"
        },
        "id": "DHV7NVKnlmil",
        "outputId": "3d41ea5d-177c-48f5-b6e9-5091c40da2ff"
      },
      "source": [
        "x=np.random.randn(8)\n",
        "x"
      ],
      "execution_count": null,
      "outputs": [
        {
          "output_type": "execute_result",
          "data": {
            "text/plain": [
              "array([ 0.83408616, -1.5236864 ,  0.75738753, -0.90470162,  0.35487881,\n",
              "        1.38977522,  0.85033624,  1.41530724])"
            ]
          },
          "metadata": {},
          "execution_count": 80
        }
      ]
    },
    {
      "cell_type": "code",
      "metadata": {
        "colab": {
          "base_uri": "https://localhost:8080/"
        },
        "id": "0mRXyydwlu4C",
        "outputId": "44e0301c-c3a0-4acc-c797-66c6d6db5918"
      },
      "source": [
        "#Returns a random number between the given range\n",
        "x=np.random.randint(1,9)\n",
        "x"
      ],
      "execution_count": null,
      "outputs": [
        {
          "output_type": "execute_result",
          "data": {
            "text/plain": [
              "8"
            ]
          },
          "metadata": {},
          "execution_count": 103
        }
      ]
    },
    {
      "cell_type": "code",
      "metadata": {
        "colab": {
          "base_uri": "https://localhost:8080/"
        },
        "id": "afnCCux_mqbK",
        "outputId": "700a19a2-2c9e-4dd6-be5d-05e01bb0cfd9"
      },
      "source": [
        "x=np.eye(3)\n",
        "x"
      ],
      "execution_count": null,
      "outputs": [
        {
          "output_type": "execute_result",
          "data": {
            "text/plain": [
              "array([[1., 0., 0.],\n",
              "       [0., 1., 0.],\n",
              "       [0., 0., 1.]])"
            ]
          },
          "metadata": {},
          "execution_count": 83
        }
      ]
    },
    {
      "cell_type": "code",
      "metadata": {
        "colab": {
          "base_uri": "https://localhost:8080/"
        },
        "id": "wRPjVukGm0Za",
        "outputId": "7bbd1b01-7181-41a2-a2bb-c8a104540d1d"
      },
      "source": [
        "x=np.ones(6)\n",
        "x"
      ],
      "execution_count": null,
      "outputs": [
        {
          "output_type": "execute_result",
          "data": {
            "text/plain": [
              "array([1., 1., 1., 1., 1., 1.])"
            ]
          },
          "metadata": {},
          "execution_count": 87
        }
      ]
    }
  ]
}