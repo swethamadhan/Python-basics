{
  "nbformat": 4,
  "nbformat_minor": 0,
  "metadata": {
    "colab": {
      "provenance": [],
      "collapsed_sections": []
    },
    "kernelspec": {
      "name": "python3",
      "display_name": "Python 3"
    },
    "language_info": {
      "name": "python"
    }
  },
  "cells": [
    {
      "cell_type": "markdown",
      "metadata": {
        "id": "NkFSwNmNGNGN"
      },
      "source": [
        "**SORTING**"
      ]
    },
    {
      "cell_type": "markdown",
      "metadata": {
        "id": "IXuadew-U5aW"
      },
      "source": [
        "**SYNTAX**"
      ]
    },
    {
      "cell_type": "code",
      "metadata": {
        "id": "0py4CMdqU83s"
      },
      "source": [
        "numpy.sort(a, axis, kind, order) \n",
        "#a denotes input"
      ],
      "execution_count": null,
      "outputs": []
    },
    {
      "cell_type": "markdown",
      "metadata": {
        "id": "L2ono_glHHuu"
      },
      "source": [
        "**IMPORT NUMPY**"
      ]
    },
    {
      "cell_type": "code",
      "metadata": {
        "id": "Znxb7a9UGSy8"
      },
      "source": [
        "import numpy as np\n"
      ],
      "execution_count": null,
      "outputs": []
    },
    {
      "cell_type": "markdown",
      "metadata": {
        "id": "mrh4N5fAHSql"
      },
      "source": [
        "**FOR ONE DIMENSION ARRAY**"
      ]
    },
    {
      "cell_type": "code",
      "metadata": {
        "colab": {
          "base_uri": "https://localhost:8080/"
        },
        "id": "aeK8srblHzNu",
        "outputId": "b75f47ee-a5c1-4416-8609-ad6a6209639d"
      },
      "source": [
        "arr = np.array([True, False, True])\n",
        "print(np.sort(arr))"
      ],
      "execution_count": null,
      "outputs": [
        {
          "output_type": "stream",
          "name": "stdout",
          "text": [
            "[False  True  True]\n"
          ]
        }
      ]
    },
    {
      "cell_type": "markdown",
      "metadata": {
        "id": "zlbcpvQmJzG2"
      },
      "source": [
        "**FOR TWO DIMENSION ARRAY**"
      ]
    },
    {
      "cell_type": "code",
      "metadata": {
        "colab": {
          "base_uri": "https://localhost:8080/"
        },
        "id": "oD8FaUBOJ4-d",
        "outputId": "f5039d80-2ea7-4bfa-a373-e189b0f362f8"
      },
      "source": [
        "arr = np.array([[3, 2, 4], [5, 0, 1]])\n",
        "print(np.sort(arr))"
      ],
      "execution_count": null,
      "outputs": [
        {
          "output_type": "stream",
          "name": "stdout",
          "text": [
            "[[2 3 4]\n",
            " [0 1 5]]\n"
          ]
        }
      ]
    },
    {
      "cell_type": "markdown",
      "metadata": {
        "id": "HqkDA6azKuxd"
      },
      "source": [
        "**CREATE A MATRIX**"
      ]
    },
    {
      "cell_type": "code",
      "metadata": {
        "colab": {
          "base_uri": "https://localhost:8080/"
        },
        "id": "Z4xg3nJuKu61",
        "outputId": "83ea003d-be5d-44ab-a615-291b7a06e637"
      },
      "source": [
        "np.random.seed(77)\n",
        "array2d=np.random.choice(a=np.arange(start=1,stop=10),size=9,replace=False).reshape([3,3])\n",
        "print(array2d)"
      ],
      "execution_count": null,
      "outputs": [
        {
          "output_type": "stream",
          "name": "stdout",
          "text": [
            "[[3 6 1]\n",
            " [2 4 7]\n",
            " [5 9 8]]\n"
          ]
        }
      ]
    },
    {
      "cell_type": "markdown",
      "metadata": {
        "id": "0D0SzooWNJ3m"
      },
      "source": [
        "**SORT BY COLUMN**\n"
      ]
    },
    {
      "cell_type": "markdown",
      "metadata": {
        "id": "K1-tdp4OOmk-"
      },
      "source": [
        "AXIS: It represents the axis along which the array is to be sorted. If the axis is not mentioned, then the sorting is done along the last available axis."
      ]
    },
    {
      "cell_type": "code",
      "metadata": {
        "colab": {
          "base_uri": "https://localhost:8080/"
        },
        "id": "8wtr3GszNQ79",
        "outputId": "4ecfb3d8-6480-4636-f9d1-0c31c11738e5"
      },
      "source": [
        "np.sort(array2d,axis=0)"
      ],
      "execution_count": null,
      "outputs": [
        {
          "output_type": "execute_result",
          "data": {
            "text/plain": [
              "array([[2, 4, 1],\n",
              "       [3, 6, 7],\n",
              "       [5, 9, 8]])"
            ]
          },
          "metadata": {},
          "execution_count": 14
        }
      ]
    },
    {
      "cell_type": "markdown",
      "metadata": {
        "id": "WMuaXDU_NiO1"
      },
      "source": [
        "**SORT BY ROW**"
      ]
    },
    {
      "cell_type": "code",
      "metadata": {
        "colab": {
          "base_uri": "https://localhost:8080/"
        },
        "id": "CwUukFC9Nkk1",
        "outputId": "e9746ea8-f519-4c95-856a-81aab591f3d2"
      },
      "source": [
        "np.sort(array2d,axis=1)"
      ],
      "execution_count": null,
      "outputs": [
        {
          "output_type": "execute_result",
          "data": {
            "text/plain": [
              "array([[1, 3, 6],\n",
              "       [2, 4, 7],\n",
              "       [5, 8, 9]])"
            ]
          },
          "metadata": {},
          "execution_count": 15
        }
      ]
    },
    {
      "cell_type": "markdown",
      "metadata": {
        "id": "2hqSfEdmNt3V"
      },
      "source": [
        "**REVERSE IN DESCENDING**"
      ]
    },
    {
      "cell_type": "code",
      "metadata": {
        "colab": {
          "base_uri": "https://localhost:8080/"
        },
        "id": "V6Zo8F5sNwXt",
        "outputId": "c87b59a6-e4f1-4956-f8ea-7a3a29e2766f"
      },
      "source": [
        "-np.sort(-array2d)"
      ],
      "execution_count": null,
      "outputs": [
        {
          "output_type": "execute_result",
          "data": {
            "text/plain": [
              "array([[6, 3, 1],\n",
              "       [7, 4, 2],\n",
              "       [9, 8, 5]])"
            ]
          },
          "metadata": {},
          "execution_count": 16
        }
      ]
    },
    {
      "cell_type": "markdown",
      "metadata": {
        "id": "LL16enShOIN9"
      },
      "source": [
        "**REVERSE IN ASCENDING**"
      ]
    },
    {
      "cell_type": "code",
      "metadata": {
        "colab": {
          "base_uri": "https://localhost:8080/"
        },
        "id": "sS68upY9N-Yu",
        "outputId": "bcf59616-5720-407d-9365-27c8e2a78637"
      },
      "source": [
        "np.sort(array2d)"
      ],
      "execution_count": null,
      "outputs": [
        {
          "output_type": "execute_result",
          "data": {
            "text/plain": [
              "array([[1, 3, 6],\n",
              "       [2, 4, 7],\n",
              "       [5, 8, 9]])"
            ]
          },
          "metadata": {},
          "execution_count": 17
        }
      ]
    },
    {
      "cell_type": "markdown",
      "metadata": {
        "id": "186m9qBZOMat"
      },
      "source": [
        "**REVERSE USING STRING**"
      ]
    },
    {
      "cell_type": "code",
      "metadata": {
        "colab": {
          "base_uri": "https://localhost:8080/"
        },
        "id": "mto6NkOgO8gM",
        "outputId": "e4657659-4e2d-4809-ca46-b4d2c0265037"
      },
      "source": [
        "#FOR SORTING\n",
        "test_string = \"geekforgeeks\"\n",
        "print(\"The original string : \" + str(test_string))\n",
        "#FOR REVERSE\n",
        "res = ''.join(sorted(test_string, reverse = True))\n",
        "print(\"String after reverse sorting : \" + str(res))"
      ],
      "execution_count": null,
      "outputs": [
        {
          "output_type": "stream",
          "name": "stdout",
          "text": [
            "The original string : geekforgeeks\n",
            "String after reverse sorting : srokkggfeeee\n"
          ]
        }
      ]
    },
    {
      "cell_type": "markdown",
      "metadata": {
        "id": "UNPIFzw-Rojt"
      },
      "source": [
        "**USING INDICES**\n",
        "\n"
      ]
    },
    {
      "cell_type": "markdown",
      "metadata": {
        "id": "JKKMQingQQVW"
      },
      "source": [
        "**numpy.argsort() function**"
      ]
    },
    {
      "cell_type": "markdown",
      "metadata": {
        "id": "Fouq1icaREKF"
      },
      "source": [
        "*This function is used to perform an indirect sort on an input array that is, it returns an array of indices of data which is used to construct the array of sorted data.*"
      ]
    },
    {
      "cell_type": "code",
      "metadata": {
        "colab": {
          "base_uri": "https://localhost:8080/"
        },
        "id": "7pAiBWDNQ7J9",
        "outputId": "f5055be0-5302-4f18-e056-87a81f55e0f6"
      },
      "source": [
        "a = np.array([90, 29, 89, 12])  \n",
        "print(\"Original array:\\n\",a)  \n",
        "sort_ind = np.argsort(a)  \n",
        "print(\"Printing indices of sorted data\\n\",sort_ind)  \n",
        "sort_a = a[sort_ind]  \n",
        "print(\"printing sorted array\")  \n",
        "for i in sort_ind:  \n",
        "    print(a[i],end = \" \") "
      ],
      "execution_count": null,
      "outputs": [
        {
          "output_type": "stream",
          "name": "stdout",
          "text": [
            "Original array:\n",
            " [90 29 89 12]\n",
            "Printing indices of sorted data\n",
            " [3 1 2 0]\n",
            "printing sorted array\n",
            "12 29 89 90 "
          ]
        }
      ]
    },
    {
      "cell_type": "markdown",
      "metadata": {
        "id": "pqSE67hDRMHt"
      },
      "source": [
        "**numpy.lexsort() function**"
      ]
    },
    {
      "cell_type": "markdown",
      "metadata": {
        "id": "8XDGjmUMSZDt"
      },
      "source": [
        "*This function is used to sort the array using the sequence of keys indirectly. This function performs similarly to the numpy.argsort() which returns the array of indices of sorted data.*"
      ]
    },
    {
      "cell_type": "code",
      "metadata": {
        "colab": {
          "base_uri": "https://localhost:8080/"
        },
        "id": "r_e6MaX1RQze",
        "outputId": "05c8b452-3895-4d64-9a9a-4cd51e668809"
      },
      "source": [
        "a = np.array(['a','b','c','d','e'])  \n",
        "b = np.array([12, 90, 380, 12, 211])  \n",
        "ind = np.lexsort((a,b))  \n",
        "print(\"printing indices of sorted data\")  \n",
        "print(ind)  \n",
        "print(\"using the indices to sort the array\")  \n",
        "for i in ind:  \n",
        "    print(a[i],b[i])  "
      ],
      "execution_count": null,
      "outputs": [
        {
          "output_type": "stream",
          "name": "stdout",
          "text": [
            "printing indices of sorted data\n",
            "[0 3 1 4 2]\n",
            "using the indices to sort the array\n",
            "a 12\n",
            "d 12\n",
            "b 90\n",
            "e 211\n",
            "c 380\n"
          ]
        }
      ]
    },
    {
      "cell_type": "markdown",
      "metadata": {
        "id": "q74KDqeMSedk"
      },
      "source": [
        "**numpy.nonzero() function**"
      ]
    },
    {
      "cell_type": "markdown",
      "metadata": {
        "id": "M82nw-iBS6_V"
      },
      "source": [
        "*This function is used to find the location of the non-zero elements from the array.*"
      ]
    },
    {
      "cell_type": "code",
      "metadata": {
        "colab": {
          "base_uri": "https://localhost:8080/"
        },
        "id": "Jr3F5q6ZS_U0",
        "outputId": "944158df-0225-472a-d3ea-7fa4ef6b9863"
      },
      "source": [
        "A = np.array([12, 90, 380, 12, 211, 0, 500])  \n",
        "print(\"printing original array\",A)  \n",
        "print(\"printing location of the non-zero elements\")  \n",
        "print(A.nonzero())  "
      ],
      "execution_count": null,
      "outputs": [
        {
          "output_type": "stream",
          "name": "stdout",
          "text": [
            "printing original array [ 12  90 380  12 211   0 500]\n",
            "printing location of the non-zero elements\n",
            "(array([0, 1, 2, 3, 4, 6]),)\n"
          ]
        }
      ]
    },
    {
      "cell_type": "markdown",
      "metadata": {
        "id": "tnJCW-lyTa4t"
      },
      "source": [
        "**numpy.where() function**"
      ]
    },
    {
      "cell_type": "markdown",
      "metadata": {
        "id": "lj9u3qYBThKd"
      },
      "source": [
        "*This function is used to return the indices of all the elements which satisfies a particular condition.*"
      ]
    },
    {
      "cell_type": "code",
      "metadata": {
        "colab": {
          "base_uri": "https://localhost:8080/"
        },
        "id": "ESxVquxCTdV9",
        "outputId": "b6d4ab8a-2ef7-4e96-aa93-5cc3d4ce76b1"
      },
      "source": [
        "b = np.array([12, 90, 380, 12, 211, 11, 13])  \n",
        "print(np.where(b>12))  "
      ],
      "execution_count": null,
      "outputs": [
        {
          "output_type": "stream",
          "name": "stdout",
          "text": [
            "(array([1, 2, 4, 6]),)\n"
          ]
        }
      ]
    }
  ]
}