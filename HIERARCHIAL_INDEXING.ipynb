{
  "nbformat": 4,
  "nbformat_minor": 0,
  "metadata": {
    "colab": {
      "provenance": [],
      "collapsed_sections": []
    },
    "kernelspec": {
      "name": "python3",
      "display_name": "Python 3"
    },
    "language_info": {
      "name": "python"
    }
  },
  "cells": [
    {
      "cell_type": "markdown",
      "metadata": {
        "id": "jn9Sv7RFaLRh"
      },
      "source": [
        "**HIERARCHIAL INDEXING**"
      ]
    },
    {
      "cell_type": "markdown",
      "metadata": {
        "id": "dvKSe2OUaXyo"
      },
      "source": [
        "**IMPORT NUMPY AND PANDAS**"
      ]
    },
    {
      "cell_type": "code",
      "metadata": {
        "id": "lmRWcdWWZYG8"
      },
      "source": [
        "import pandas as pd \n",
        "import numpy as np \n"
      ],
      "execution_count": null,
      "outputs": []
    },
    {
      "cell_type": "markdown",
      "metadata": {
        "id": "VM0_meP-aJ4h"
      },
      "source": [
        "**MULTIPLE INDEXED SERIES**"
      ]
    },
    {
      "cell_type": "markdown",
      "metadata": {
        "id": "V3Q0P-sAcCTQ"
      },
      "source": [
        "*BAD WAY*"
      ]
    },
    {
      "cell_type": "code",
      "metadata": {
        "colab": {
          "base_uri": "https://localhost:8080/"
        },
        "id": "cF7O7qJTcFF_",
        "outputId": "2e44b867-7810-47c9-e000-fb11fa88236e"
      },
      "source": [
        "index = [('RAJASTHAN', 2000), ('DELHI', 2010),\n",
        "         ('DELHI', 2000), ('MUMBAI', 2010),\n",
        "         ('TELUGANA', 2000), ('BANGALORE', 2010)]\n",
        "populations = [33871648, 37253956,\n",
        "               18976457, 19378102,\n",
        "               20851820, 25145561]\n",
        "pop = pd.Series(populations, index=index)\n",
        "pop"
      ],
      "execution_count": null,
      "outputs": [
        {
          "output_type": "execute_result",
          "data": {
            "text/plain": [
              "(RAJASTHAN, 2000)    33871648\n",
              "(DELHI, 2010)        37253956\n",
              "(DELHI, 2000)        18976457\n",
              "(MUMBAI, 2010)       19378102\n",
              "(TELUGANA, 2000)     20851820\n",
              "(BANGALORE, 2010)    25145561\n",
              "dtype: int64"
            ]
          },
          "metadata": {},
          "execution_count": 9
        }
      ]
    },
    {
      "cell_type": "markdown",
      "metadata": {
        "id": "REqwF-I1dn9K"
      },
      "source": [
        "*With this indexing scheme, you can straightforwardly index or slice the series based on this multiple index*"
      ]
    },
    {
      "cell_type": "code",
      "metadata": {
        "id": "VXTCB6nwdrI3"
      },
      "source": [],
      "execution_count": null,
      "outputs": []
    }
  ]
}